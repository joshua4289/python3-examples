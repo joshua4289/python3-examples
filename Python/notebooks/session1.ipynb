{
 "cells": [
  {
   "cell_type": "code",
   "execution_count": 2,
   "metadata": {
    "collapsed": false
   },
   "outputs": [
    {
     "name": "stdout",
     "output_type": "stream",
     "text": [
      "<class 'sympy.core.symbol.Symbol'>\n"
     ]
    },
    {
     "data": {
      "image/png": "[encoded data removed]",
      "text/latex": [
       "$$3 x + y^{2}$$"
      ],
      "text/plain": [
       "       2\n",
       "3⋅x + y "
      ]
     },
     "execution_count": 2,
     "metadata": {},
     "output_type": "execute_result"
    }
   ],
   "source": [
    "import sympy as s\n",
    "s.init_printing()\n",
    "x = s.Symbol('x')\n",
    "print type(x)\n",
    "y = s.Symbol('y')\n",
    "2 * x * x\n",
    "myterm = 3* x + y **2\n",
    "myterm"
   ]
  },
  {
   "cell_type": "code",
   "execution_count": 10,
   "metadata": {
    "collapsed": false
   },
   "outputs": [
    {
     "data": {
      "image/png": "[encoded data removed]",
      "text/latex": [
       "$$\\frac{x}{\\sqrt{\\sigma^{2} + x^{2} + y^{2}}}$$"
      ],
      "text/plain": [
       "        x        \n",
       "─────────────────\n",
       "   ______________\n",
       "  ╱  2    2    2 \n",
       "╲╱  σ  + x  + y  "
      ]
     },
     "execution_count": 10,
     "metadata": {},
     "output_type": "execute_result"
    }
   ],
   "source": [
    "from sympy import sqrt, diff\n",
    "import sympy\n",
    "sympy.init_printing()\n",
    "\n",
    "x, y, sigma = sympy.symbols('x, y, sigma')\n",
    "\n",
    "r = sqrt(x**2 + y**2)\n",
    "\n",
    "def phi (x, y, sigma):\n",
    "    return sqrt(x**2 + y**2 + sigma**2)\n",
    "\n",
    "mydfdx = x / sqrt(r**2 + sigma**2)\n",
    "diff(phi(x, y, sigma), x)             # looks different from mydfdx\n",
    "#mydfdx - diff(phi(x, y, sigma), x)    # but difference is zero!"
   ]
  },
  {
   "cell_type": "code",
   "execution_count": 5,
   "metadata": {
    "collapsed": false
   },
   "outputs": [
    {
     "data": {
      "image/png": "[encoded data removed]",
      "text/latex": [
       "$$e^{- \\frac{x^{2}}{2}}$$"
      ],
      "text/plain": [
       "   2 \n",
       " -x  \n",
       " ────\n",
       "  2  \n",
       "ℯ    "
      ]
     },
     "execution_count": 5,
     "metadata": {},
     "output_type": "execute_result"
    }
   ],
   "source": [
    "import sympy\n",
    "from sympy import integrate, sin, exp\n",
    "sympy.init_printing()\n",
    "\n",
    "x, y, sigma = sympy.symbols('x, y, sigma')\n",
    "integrate( -x * exp(-x**2/2), x )"
   ]
  },
  {
   "cell_type": "code",
   "execution_count": 3,
   "metadata": {
    "collapsed": false
   },
   "outputs": [
    {
     "name": "stdout",
     "output_type": "stream",
     "text": [
      "1:  2*(x - 3)**3\n",
      "2:  2*x**3 - 18*x**2 + 54*x - 54\n",
      "3:  (2*y + 10)**2\n",
      "4:  256\n",
      "5:  (x + 2*y)**2\n",
      "6:  36\n"
     ]
    }
   ],
   "source": [
    "import sympy\n",
    "sympy.init_printing()\n",
    "\n",
    "# define symbols\n",
    "x , y , z = sympy.symbols('x, y, z')\n",
    "\n",
    "# print polynominal in two different forms \n",
    "print \"1: \", 2*(x - 3)**3\n",
    "print \"2: \", (2*(x - 3)**3).expand()\n",
    "\n",
    "# evaluate polynominal with a given value of x\n",
    "print \"3: \", ((x + 2*y)**2).subs(x, 10)\n",
    "\n",
    "# evaluate polynominal with a given values of x and y\n",
    "print \"4: \", ((x + 2*y)**2).subs({x:10, y:3})\n",
    "\n",
    "# perform double substitution on expression \n",
    "myterm = ((x + 2*y)**2)\n",
    "print \"5: \", myterm\n",
    "print \"6: \", myterm.subs(x, y).subs(y, 2)"
   ]
  },
  {
   "cell_type": "code",
   "execution_count": 13,
   "metadata": {
    "collapsed": false
   },
   "outputs": [
    {
     "data": {
      "image/png": "[encoded data removed]",
      "text/latex": [
       "$$\\cos{\\left (\\frac{1}{2} \\right )} - \\left(x - \\frac{1}{2}\\right) \\sin{\\left (\\frac{1}{2} \\right )} - \\frac{1}{2} \\left(x - \\frac{1}{2}\\right)^{2} \\cos{\\left (\\frac{1}{2} \\right )} + \\frac{1}{6} \\left(x - \\frac{1}{2}\\right)^{3} \\sin{\\left (\\frac{1}{2} \\right )} + \\frac{1}{24} \\left(x - \\frac{1}{2}\\right)^{4} \\cos{\\left (\\frac{1}{2} \\right )} - \\frac{1}{120} \\left(x - \\frac{1}{2}\\right)^{5} \\sin{\\left (\\frac{1}{2} \\right )} - \\frac{1}{720} \\left(x - \\frac{1}{2}\\right)^{6} \\cos{\\left (\\frac{1}{2} \\right )} + \\frac{1}{5040} \\left(x - \\frac{1}{2}\\right)^{7} \\sin{\\left (\\frac{1}{2} \\right )} + \\frac{1}{40320} \\left(x - \\frac{1}{2}\\right)^{8} \\cos{\\left (\\frac{1}{2} \\right )} - \\frac{1}{362880} \\left(x - \\frac{1}{2}\\right)^{9} \\sin{\\left (\\frac{1}{2} \\right )} + \\mathcal{O}\\left(\\left(x - \\frac{1}{2}\\right)^{10}; x\\rightarrow\\frac{1}{2}\\right)$$"
      ],
      "text/plain": [
       "                                         2                     3              \n",
       "                                (x - 1/2) ⋅cos(1/2)   (x - 1/2) ⋅sin(1/2)   (x\n",
       "cos(1/2) - (x - 1/2)⋅sin(1/2) - ─────────────────── + ─────────────────── + ──\n",
       "                                         2                     6              \n",
       "\n",
       "       4                     5                     6                     7    \n",
       " - 1/2) ⋅cos(1/2)   (x - 1/2) ⋅sin(1/2)   (x - 1/2) ⋅cos(1/2)   (x - 1/2) ⋅sin\n",
       "───────────────── - ─────────────────── - ─────────────────── + ──────────────\n",
       "       24                   120                   720                   5040  \n",
       "\n",
       "                 8                     9                                   \n",
       "(1/2)   (x - 1/2) ⋅cos(1/2)   (x - 1/2) ⋅sin(1/2)    ⎛         10         ⎞\n",
       "───── + ─────────────────── - ─────────────────── + O⎝(x - 1/2)  ; x → 1/2⎠\n",
       "               40320                 362880                                "
      ]
     },
     "execution_count": 13,
     "metadata": {},
     "output_type": "execute_result"
    }
   ],
   "source": [
    "from sympy import Symbol, Rational, cos, sin, series\n",
    "import sympy\n",
    "sympy.init_printing()\n",
    "\n",
    "x = Symbol('x') \n",
    "from sympy.series import series\n",
    "series(cos(x), x0=Rational(0.5), n=10)\n"
   ]
  },
  {
   "cell_type": "code",
   "execution_count": 18,
   "metadata": {
    "collapsed": false
   },
   "outputs": [
    {
     "data": {
      "image/png": "[encoded data removed]",
      "text/latex": [
       "$$\\left(x + 1\\right)^{4} \\left(x + 2\\right)^{4} \\left(x + 3\\right)^{4}$$"
      ],
      "text/plain": [
       "       4        4        4\n",
       "(x + 1) ⋅(x + 2) ⋅(x + 3) "
      ]
     },
     "execution_count": 18,
     "metadata": {},
     "output_type": "execute_result"
    }
   ],
   "source": [
    "((x+1)*(x+2)*(x+3))**4"
   ]
  },
  {
   "cell_type": "code",
   "execution_count": null,
   "metadata": {
    "collapsed": true
   },
   "outputs": [],
   "source": []
  }
 ],
 "metadata": {
  "kernelspec": {
   "display_name": "Python 2",
   "language": "python",
   "name": "python2"
  },
  "language_info": {
   "codemirror_mode": {
    "name": "ipython",
    "version": 2
   },
   "file_extension": ".py",
   "mimetype": "text/x-python",
   "name": "python",
   "nbconvert_exporter": "python",
   "pygments_lexer": "ipython2",
   "version": "2.7.6"
  }
 },
 "nbformat": 4,
 "nbformat_minor": 0
}
