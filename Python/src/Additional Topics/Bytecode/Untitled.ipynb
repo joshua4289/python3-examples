{
 "cells": [
  {
   "cell_type": "code",
   "execution_count": 5,
   "metadata": {
    "collapsed": false
   },
   "outputs": [
    {
     "name": "stdout",
     "output_type": "stream",
     "text": [
      "1:  2*(x - 3)**3\n",
      "2:  2*x**3 - 18*x**2 + 54*x - 54\n",
      "3:  (2*y + 10)**2\n",
      "4:  256\n",
      "5:  (x + 2*y)**2\n",
      "6:  36\n"
     ]
    }
   ],
   "source": [
    "import sympy\n",
    "sympy.init_printing()\n",
    "\n",
    "# define symbols\n",
    "x , y , z = sympy.symbols('x, y, z')\n",
    "# print polynominal in two different forms \n",
    "print \"1: \", 2*(x - 3)**3\n",
    "print \"2: \", (2*(x - 3)**3).expand()\n",
    "\n",
    "# evaluate polynominal with a given value of x\n",
    "print \"3: \", ((x + 2*y)**2).subs(x, 10)\n",
    "\n",
    "# evaluate polynominal with a given values of x and y\n",
    "print \"4: \", ((x + 2*y)**2).subs({x:10, y:3})\n",
    "\n",
    "# perform double substitution on expression \n",
    "myterm = ((x + 2*y)**2)\n",
    "print \"5: \", myterm\n",
    "print \"6: \", myterm.subs(x, y).subs(y, 2)"
   ]
  },
  {
   "cell_type": "code",
   "execution_count": null,
   "metadata": {
    "collapsed": true
   },
   "outputs": [],
   "source": []
  }
 ],
 "metadata": {
  "kernelspec": {
   "display_name": "Python 2",
   "language": "python",
   "name": "python2"
  },
  "language_info": {
   "codemirror_mode": {
    "name": "ipython",
    "version": 2
   },
   "file_extension": ".py",
   "mimetype": "text/x-python",
   "name": "python",
   "nbconvert_exporter": "python",
   "pygments_lexer": "ipython2",
   "version": "2.7.6"
  }
 },
 "nbformat": 4,
 "nbformat_minor": 0
}
