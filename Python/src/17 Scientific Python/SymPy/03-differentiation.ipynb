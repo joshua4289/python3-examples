{
 "cells": [
  {
   "cell_type": "markdown",
   "metadata": {},
   "source": [
    "# Differentiation"
   ]
  },
  {
   "cell_type": "code",
   "execution_count": 2,
   "metadata": {
    "collapsed": false
   },
   "outputs": [
    {
     "data": {
      "image/png": "[encoded data removed]",
      "text/latex": [
       "$$\\left ( \\frac{d}{d x} \\sin{\\left (x \\right )}, \\quad \\cos{\\left (x \\right )}\\right )$$"
      ],
      "text/plain": [
       "⎛d                 ⎞\n",
       "⎜──(sin(x)), cos(x)⎟\n",
       "⎝dx                ⎠"
      ]
     },
     "execution_count": 2,
     "metadata": {},
     "output_type": "execute_result"
    }
   ],
   "source": [
    "# various differentials\n",
    "\n",
    "from sympy import Derivative, symbols, exp, sin, sqrt, diff\n",
    "import sympy\n",
    "sympy.init_printing()\n",
    "x, y = symbols('x, y')\n",
    "Derivative( sin(x), x ), diff( sin(x), x )"
   ]
  },
  {
   "cell_type": "code",
   "execution_count": 3,
   "metadata": {
    "collapsed": false
   },
   "outputs": [
    {
     "data": {
      "image/png": "[encoded data removed]",
      "text/latex": [
       "$$\\left ( \\frac{\\partial}{\\partial x}\\left(x^{9} + 10 x^{2} + 3 x + 4 y + 10\\right), \\quad 9 x^{8} + 20 x + 3\\right )$$"
      ],
      "text/plain": [
       "⎛∂ ⎛ 9       2                 ⎞     8           ⎞\n",
       "⎜──⎝x  + 10⋅x  + 3⋅x + 4⋅y + 10⎠, 9⋅x  + 20⋅x + 3⎟\n",
       "⎝∂x                                              ⎠"
      ]
     },
     "execution_count": 3,
     "metadata": {},
     "output_type": "execute_result"
    }
   ],
   "source": [
    "expression = 10 + 3*x + 4*y + 10*x**2 + x**9\n",
    "Derivative(expression, x), diff(expression, x)"
   ]
  },
  {
   "cell_type": "code",
   "execution_count": 4,
   "metadata": {
    "collapsed": false
   },
   "outputs": [
    {
     "data": {
      "image/png": "[encoded data removed]",
      "text/latex": [
       "$$\\left ( \\frac{\\partial}{\\partial x}\\left(x^{9} + 10 x^{2} + 3 x + 4 y + 10\\right), \\quad 263.66015625\\right )$$"
      ],
      "text/plain": [
       "⎛∂ ⎛ 9       2                 ⎞              ⎞\n",
       "⎜──⎝x  + 10⋅x  + 3⋅x + 4⋅y + 10⎠, 263.66015625⎟\n",
       "⎝∂x                                           ⎠"
      ]
     },
     "execution_count": 4,
     "metadata": {},
     "output_type": "execute_result"
    }
   ],
   "source": [
    "# evaluate when x = 1.5\n",
    "Derivative(expression, x), diff(expression, x).subs(x, 1.5)"
   ]
  },
  {
   "cell_type": "code",
   "execution_count": 5,
   "metadata": {
    "collapsed": false
   },
   "outputs": [
    {
     "data": {
      "image/png": "[encoded data removed]",
      "text/latex": [
       "$$\\left ( \\frac{d}{d x} e^{- \\frac{x^{2}}{2}}, \\quad - x e^{- \\frac{x^{2}}{2}}\\right )$$"
      ],
      "text/plain": [
       "⎛  ⎛   2 ⎞        2 ⎞\n",
       "⎜  ⎜ -x  ⎟      -x  ⎟\n",
       "⎜  ⎜ ────⎟      ────⎟\n",
       "⎜d ⎜  2  ⎟       2  ⎟\n",
       "⎜──⎝ℯ    ⎠, -x⋅ℯ    ⎟\n",
       "⎝dx                 ⎠"
      ]
     },
     "execution_count": 5,
     "metadata": {},
     "output_type": "execute_result"
    }
   ],
   "source": [
    "Derivative(exp(-x**2/2), x), diff(exp(-x**2/2), x)"
   ]
  },
  {
   "cell_type": "code",
   "execution_count": 6,
   "metadata": {
    "collapsed": false
   },
   "outputs": [
    {
     "data": {
      "image/png": "[encoded data removed]",
      "text/latex": [
       "$$\\left ( \\frac{d^{3}}{d x^{3}} \\left(3 x^{4}\\right), \\quad 72 x\\right )$$"
      ],
      "text/plain": [
       "⎛  3            ⎞\n",
       "⎜ d ⎛   4⎞      ⎟\n",
       "⎜───⎝3⋅x ⎠, 72⋅x⎟\n",
       "⎜  3            ⎟\n",
       "⎝dx             ⎠"
      ]
     },
     "execution_count": 6,
     "metadata": {},
     "output_type": "execute_result"
    }
   ],
   "source": [
    "# now for triple differentials\n",
    "Derivative(3*x**4, x, x, x), diff(3*x**4, x, x, x)"
   ]
  },
  {
   "cell_type": "code",
   "execution_count": 7,
   "metadata": {
    "collapsed": false
   },
   "outputs": [
    {
     "data": {
      "image/png": "[encoded data removed]",
      "text/latex": [
       "$$\\left ( \\frac{d^{3}}{d x^{3}} \\left(3 x^{4}\\right), \\quad 72 x\\right )$$"
      ],
      "text/plain": [
       "⎛  3            ⎞\n",
       "⎜ d ⎛   4⎞      ⎟\n",
       "⎜───⎝3⋅x ⎠, 72⋅x⎟\n",
       "⎜  3            ⎟\n",
       "⎝dx             ⎠"
      ]
     },
     "execution_count": 7,
     "metadata": {},
     "output_type": "execute_result"
    }
   ],
   "source": [
    "# alternative notation for the above\n",
    "Derivative(3*x**4, x, 3), diff(3*x**4, x, 3)"
   ]
  },
  {
   "cell_type": "code",
   "execution_count": null,
   "metadata": {
    "collapsed": true
   },
   "outputs": [],
   "source": []
  }
 ],
 "metadata": {
  "kernelspec": {
   "display_name": "Python 2",
   "language": "python",
   "name": "python2"
  },
  "language_info": {
   "codemirror_mode": {
    "name": "ipython",
    "version": 2
   },
   "file_extension": ".py",
   "mimetype": "text/x-python",
   "name": "python",
   "nbconvert_exporter": "python",
   "pygments_lexer": "ipython2",
   "version": "2.7.6"
  }
 },
 "nbformat": 4,
 "nbformat_minor": 0
}
