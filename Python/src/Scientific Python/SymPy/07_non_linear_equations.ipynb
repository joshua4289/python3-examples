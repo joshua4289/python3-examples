{
 "cells": [
  {
   "cell_type": "markdown",
   "metadata": {},
   "source": [
    "# Solving non linear equations"
   ]
  },
  {
   "cell_type": "code",
   "execution_count": 1,
   "metadata": {
    "collapsed": false
   },
   "outputs": [
    {
     "name": "stdout",
     "output_type": "stream",
     "text": [
      "2.4563\n",
      "-1.6748 - 1.031*I\n",
      "-1.6748 + 1.031*I\n",
      "0.44659 - 2.2267*I\n",
      "0.44659 + 2.2267*I\n"
     ]
    }
   ],
   "source": [
    "import sympy\n",
    "sympy.init_printing()\n",
    "\n",
    "x, y, z = sympy.symbols('x, y, z')\n",
    "eq = x - x**2.5 + 7\n",
    "z = sympy.solve(eq, x)\n",
    "\n",
    "# note most of the results are complex (I represents sqrt(-1))\n",
    "for result in z:\n",
    "    print sympy.N(result, 5)    # N is used to limit precision"
   ]
  },
  {
   "cell_type": "code",
   "execution_count": 2,
   "metadata": {
    "collapsed": false
   },
   "outputs": [
    {
     "name": "stderr",
     "output_type": "stream",
     "text": [
      "/Library/Frameworks/Python.framework/Versions/2.7/lib/python2.7/site-packages/IPython/kernel/__main__.py:7: RuntimeWarning: invalid value encountered in power\n"
     ]
    },
    {
     "data": {
      "image/png": "[encoded data removed]",
      "text/plain": [
       "<matplotlib.figure.Figure at 0x10788df90>"
      ]
     },
     "metadata": {},
     "output_type": "display_data"
    }
   ],
   "source": [
    "%matplotlib inline\n",
    "\n",
    "import pylab as plt\n",
    "X = plt.arange(-5, 5, 0.01)\n",
    "\n",
    "# plot the curve - note that values are complex if x < 0\n",
    "Y = X - X**2.5 + 7\n",
    "plt.plot(X, Y, color='red', lw=2)\n",
    "\n",
    "# plot y = 0 because x < 0 will not be displayed otherwise\n",
    "Y = X*0\n",
    "plt.plot(X, Y, color='blue', lw=1)\n",
    "\n",
    "# plot the axes\n",
    "plt.axhline(0, color='blue')\n",
    "plt.axvline(0, color='blue')\n",
    "plt.show()"
   ]
  },
  {
   "cell_type": "code",
   "execution_count": null,
   "metadata": {
    "collapsed": true
   },
   "outputs": [],
   "source": []
  }
 ],
 "metadata": {
  "kernelspec": {
   "display_name": "Python 2",
   "language": "python",
   "name": "python2"
  },
  "language_info": {
   "codemirror_mode": {
    "name": "ipython",
    "version": 2
   },
   "file_extension": ".py",
   "mimetype": "text/x-python",
   "name": "python",
   "nbconvert_exporter": "python",
   "pygments_lexer": "ipython2",
   "version": "2.7.6"
  }
 },
 "nbformat": 4,
 "nbformat_minor": 0
}
