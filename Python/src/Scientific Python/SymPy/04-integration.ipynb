{
 "cells": [
  {
   "cell_type": "markdown",
   "metadata": {},
   "source": [
    "# Integration"
   ]
  },
  {
   "cell_type": "code",
   "execution_count": 1,
   "metadata": {
    "collapsed": false
   },
   "outputs": [
    {
     "data": {
      "image/png": "[encoded data removed]",
      "text/latex": [
       "$$\\int x^{2}\\, dx = \\frac{x^{3}}{3}$$"
      ],
      "text/plain": [
       "⌠          3\n",
       "⎮  2      x \n",
       "⎮ x  dx = ──\n",
       "⌡         3 "
      ]
     },
     "execution_count": 1,
     "metadata": {},
     "output_type": "execute_result"
    }
   ],
   "source": [
    "import sympy\n",
    "from sympy import Integral, Eq, integrate, sin, exp\n",
    "sympy.init_printing()\n",
    "\n",
    "x, y, sigma = sympy.symbols('x, y, sigma')\n",
    "Eq(Integral(x**2, x), integrate(x**2, x))"
   ]
  },
  {
   "cell_type": "code",
   "execution_count": null,
   "metadata": {
    "collapsed": false
   },
   "outputs": [],
   "source": [
    "Eq(Integral(x**2, y), integrate(x**2, y))"
   ]
  },
  {
   "cell_type": "code",
   "execution_count": 2,
   "metadata": {
    "collapsed": false
   },
   "outputs": [
    {
     "data": {
      "image/png": "[encoded data removed]",
      "text/latex": [
       "$$\\left ( \\int \\sin{\\left (x \\right )}\\, dx = - \\cos{\\left (x \\right )}, \\quad \\int \\sin{\\left (x \\right )}\\, dy = y \\sin{\\left (x \\right )}\\right )$$"
      ],
      "text/plain": [
       "⎛⌠                      ⌠                     ⎞\n",
       "⎜⎮ sin(x) dx = -cos(x), ⎮ sin(x) dy = y⋅sin(x)⎟\n",
       "⎝⌡                      ⌡                     ⎠"
      ]
     },
     "execution_count": 2,
     "metadata": {},
     "output_type": "execute_result"
    }
   ],
   "source": [
    "ix = (sin(x), x)\n",
    "iy = (sin(x), y)\n",
    "Eq(Integral(*ix), integrate(*ix)), Eq(Integral(*iy), integrate(*iy))"
   ]
  },
  {
   "cell_type": "code",
   "execution_count": null,
   "metadata": {
    "collapsed": false
   },
   "outputs": [],
   "source": [
    "e = (-x * exp(-x**2/2), x)\n",
    "Eq(Integral(*e), integrate(*e))"
   ]
  },
  {
   "cell_type": "code",
   "execution_count": 3,
   "metadata": {
    "collapsed": false
   },
   "outputs": [
    {
     "data": {
      "image/png": "[encoded data removed]",
      "text/latex": [
       "$$\\iiint x^{2}\\, dx\\, dx\\, dy = \\frac{x^{4} y}{12}$$"
      ],
      "text/plain": [
       "⌠ ⌠ ⌠                4  \n",
       "⎮ ⎮ ⎮  2            x ⋅y\n",
       "⎮ ⎮ ⎮ x  dx dx dy = ────\n",
       "⌡ ⌡ ⌡                12 "
      ]
     },
     "execution_count": 3,
     "metadata": {},
     "output_type": "execute_result"
    }
   ],
   "source": [
    "# triple integral\n",
    "Eq(Integral(x**2, x, x, y), integrate(x**2, x, x, y))   "
   ]
  },
  {
   "cell_type": "code",
   "execution_count": 4,
   "metadata": {
    "collapsed": false
   },
   "outputs": [
    {
     "data": {
      "image/png": "[encoded data removed]",
      "text/latex": [
       "$$\\left ( \\int\\int\\int_{0}^{2} x^{2}\\, dx\\, dx\\, dy, \\quad \\frac{8 x}{3} y\\right )$$"
      ],
      "text/plain": [
       "⎛    2                   ⎞\n",
       "⎜⌠ ⌠ ⌠                   ⎟\n",
       "⎜⎮ ⎮ ⎮  2           8⋅x⋅y⎟\n",
       "⎜⎮ ⎮ ⎮ x  dx dx dy, ─────⎟\n",
       "⎜⌡ ⌡ ⌡                3  ⎟\n",
       "⎝    0                   ⎠"
      ]
     },
     "execution_count": 4,
     "metadata": {},
     "output_type": "execute_result"
    }
   ],
   "source": [
    "# partially evaluate integral\n",
    "e = (x**2, (x,0,2), x, y)\n",
    "Integral(*e), integrate(*e)"
   ]
  },
  {
   "cell_type": "code",
   "execution_count": 5,
   "metadata": {
    "collapsed": false
   },
   "outputs": [
    {
     "data": {
      "image/png": "[encoded data removed]",
      "text/latex": [
       "$$\\int_{0}^{1}\\int_{0}^{2}\\int_{0}^{2} x^{2}\\, dx\\, dx\\, dy = \\frac{16}{3}$$"
      ],
      "text/plain": [
       "1 2 2                   \n",
       "⌠ ⌠ ⌠                   \n",
       "⎮ ⎮ ⎮  2                \n",
       "⎮ ⎮ ⎮ x  dx dx dy = 16/3\n",
       "⌡ ⌡ ⌡                   \n",
       "0 0 0                   "
      ]
     },
     "execution_count": 5,
     "metadata": {},
     "output_type": "execute_result"
    }
   ],
   "source": [
    "# fully evaluate integral\n",
    "e = (x**2, (x,0,2), (x,0,2), (y,0,1))\n",
    "Eq(Integral(*e), integrate(*e))"
   ]
  },
  {
   "cell_type": "code",
   "execution_count": null,
   "metadata": {
    "collapsed": true
   },
   "outputs": [],
   "source": []
  }
 ],
 "metadata": {
  "kernelspec": {
   "display_name": "Python 2",
   "language": "python",
   "name": "python2"
  },
  "language_info": {
   "codemirror_mode": {
    "name": "ipython",
    "version": 2
   },
   "file_extension": ".py",
   "mimetype": "text/x-python",
   "name": "python",
   "nbconvert_exporter": "python",
   "pygments_lexer": "ipython2",
   "version": "2.7.6"
  }
 },
 "nbformat": 4,
 "nbformat_minor": 0
}
