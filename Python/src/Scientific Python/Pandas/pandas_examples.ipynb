{
 "cells": [
  {
   "cell_type": "code",
   "execution_count": 8,
   "metadata": {
    "collapsed": false
   },
   "outputs": [
    {
     "data": {
      "image/png": "[encoded data removed]",
      "text/plain": [
       "<matplotlib.figure.Figure at 0x10a09cf90>"
      ]
     },
     "metadata": {},
     "output_type": "display_data"
    }
   ],
   "source": [
    "%matplotlib inline\n",
    "import numpy as np\n",
    "import pandas as pd\n",
    "import pylab as pl\n",
    "\n",
    "column_names = ['year', 'month', 'tmax', 'tmin', 'air-frost-days', 'rain(mm)', 'sun(hours)', 'comment']\n",
    "oxford_data = pd.read_csv(\"data/oxforddata.txt\", skiprows = 7, names=column_names, skipinitialspace = True, sep = ' ')\n",
    "tmax = oxford_data['tmax']\n",
    "year = oxford_data['year']\n",
    "month = oxford_data['month']\n",
    "\n",
    "# unfortunately, some of the data has * that need to be removed\n",
    "tmax = tmax.apply(lambda x : x if x[-1] != '*' else x[:-1]) # remove trailing *'s\n",
    "# tmax is now of type object, so we need to convert to float\n",
    "tmax = tmax.astype(float)\n",
    "df2 = pd.DataFrame(tmax[30:50], month[30:50])\n",
    "df2.plot()  #(kind='bar')\n",
    "pl.show()"
   ]
  },
  {
   "cell_type": "code",
   "execution_count": null,
   "metadata": {
    "collapsed": true
   },
   "outputs": [],
   "source": []
  }
 ],
 "metadata": {
  "kernelspec": {
   "display_name": "Python 2",
   "language": "python",
   "name": "python2"
  },
  "language_info": {
   "codemirror_mode": {
    "name": "ipython",
    "version": 2
   },
   "file_extension": ".py",
   "mimetype": "text/x-python",
   "name": "python",
   "nbconvert_exporter": "python",
   "pygments_lexer": "ipython2",
   "version": "2.7.6"
  }
 },
 "nbformat": 4,
 "nbformat_minor": 0
}
